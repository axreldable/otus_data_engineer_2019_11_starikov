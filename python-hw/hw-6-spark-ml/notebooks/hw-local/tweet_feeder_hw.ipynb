{
 "cells": [
  {
   "cell_type": "code",
   "execution_count": 1,
   "metadata": {},
   "outputs": [
    {
     "data": {
      "text/plain": [
       "Intitializing Scala interpreter ..."
      ]
     },
     "metadata": {},
     "output_type": "display_data"
    },
    {
     "data": {
      "text/plain": [
       "Spark Web UI available at http://10.50.15.159:4043\n",
       "SparkContext available as 'sc' (version = 2.4.0, master = local[*], app id = local-1582542506138)\n",
       "SparkSession available as 'spark'\n"
      ]
     },
     "metadata": {},
     "output_type": "display_data"
    },
    {
     "name": "stdout",
     "output_type": "stream",
     "text": [
      "Current spark version is 2.4.0\n"
     ]
    }
   ],
   "source": [
    "println(s\"Current spark version is ${spark.version}\")"
   ]
  },
  {
   "cell_type": "code",
   "execution_count": 2,
   "metadata": {},
   "outputs": [
    {
     "name": "stdout",
     "output_type": "stream",
     "text": [
      "Total tweets in file: 1600000\n"
     ]
    },
    {
     "data": {
      "text/plain": [
       "import org.apache.spark.sql.types.{StructType, StructField, IntegerType, LongType, StringType}\n",
       "dataSchema: org.apache.spark.sql.types.StructType = StructType(StructField(target,IntegerType,true), StructField(id,LongType,true), StructField(raw_timestamp,StringType,true), StructField(query_status,StringType,true), StructField(author,StringType,true), StructField(tweet,StringType,true))\n",
       "dataPath: String = ./data/training.1600000.processed.noemoticon.csv\n",
       "raw_sentiment: org.apache.spark.sql.DataFrame = [tweet: string]\n"
      ]
     },
     "execution_count": 2,
     "metadata": {},
     "output_type": "execute_result"
    }
   ],
   "source": [
    "import org.apache.spark.sql.types.{StructType, StructField, IntegerType, LongType, StringType}\n",
    "\n",
    "val dataSchema = new StructType()\n",
    "    .add(\"target\", IntegerType)\n",
    "    .add(\"id\", LongType)\n",
    "    .add(\"raw_timestamp\", StringType)\n",
    "    .add(\"query_status\", StringType)\n",
    "    .add(\"author\", StringType)\n",
    "    .add(\"tweet\", StringType)\n",
    "\n",
    "    \n",
    "val dataPath= \"./data/training.1600000.processed.noemoticon.csv\"\n",
    "\n",
    "val raw_sentiment = spark.read\n",
    "    .format(\"csv\")\n",
    "    .option(\"header\",false)\n",
    "    .schema(dataSchema)\n",
    "    .load(dataPath)\n",
    "    .selectExpr(\"tweet\")\n",
    "\n",
    "println(s\"Total tweets in file: ${raw_sentiment.count}\")\n"
   ]
  },
  {
   "cell_type": "code",
   "execution_count": 3,
   "metadata": {},
   "outputs": [
    {
     "name": "stdout",
     "output_type": "stream",
     "text": [
      "Streaming started!\n"
     ]
    },
    {
     "data": {
      "text/plain": [
       "import java.util.{Calendar, Timer, TimerTask}\n",
       "timer: java.util.Timer = java.util.Timer@202bd930\n",
       "task: java.util.TimerTask = $anon$1@2d89d0b3\n"
      ]
     },
     "execution_count": 3,
     "metadata": {},
     "output_type": "execute_result"
    },
    {
     "name": "stdout",
     "output_type": "stream",
     "text": [
      "2020-02-24T11:08:43.856Z - saved some data to the events stream!\n",
      "2020-02-24T11:08:47.811Z - saved some data to the events stream!\n",
      "2020-02-24T11:08:51.400Z - saved some data to the events stream!\n",
      "2020-02-24T11:08:54.951Z - saved some data to the events stream!\n",
      "2020-02-24T11:08:58.545Z - saved some data to the events stream!\n",
      "2020-02-24T11:09:02.111Z - saved some data to the events stream!\n",
      "2020-02-24T11:09:05.691Z - saved some data to the events stream!\n",
      "2020-02-24T11:09:09.184Z - saved some data to the events stream!\n",
      "2020-02-24T11:09:12.645Z - saved some data to the events stream!\n",
      "2020-02-24T11:09:16.134Z - saved some data to the events stream!\n",
      "2020-02-24T11:09:19.684Z - saved some data to the events stream!\n",
      "2020-02-24T11:09:23.212Z - saved some data to the events stream!\n",
      "2020-02-24T11:09:26.764Z - saved some data to the events stream!\n",
      "2020-02-24T11:09:30.296Z - saved some data to the events stream!\n",
      "2020-02-24T11:09:33.794Z - saved some data to the events stream!\n",
      "2020-02-24T11:09:37.311Z - saved some data to the events stream!\n",
      "2020-02-24T11:09:40.867Z - saved some data to the events stream!\n",
      "2020-02-24T11:09:44.367Z - saved some data to the events stream!\n",
      "2020-02-24T11:09:47.834Z - saved some data to the events stream!\n",
      "2020-02-24T11:09:51.334Z - saved some data to the events stream!\n",
      "2020-02-24T11:09:54.832Z - saved some data to the events stream!\n",
      "2020-02-24T11:09:58.345Z - saved some data to the events stream!\n",
      "2020-02-24T11:10:01.887Z - saved some data to the events stream!\n",
      "2020-02-24T11:10:05.499Z - saved some data to the events stream!\n",
      "2020-02-24T11:10:09.256Z - saved some data to the events stream!\n"
     ]
    }
   ],
   "source": [
    "import java.util.{Calendar, Timer, TimerTask}\n",
    "\n",
    "val timer = new Timer()\n",
    "\n",
    "val task = new TimerTask {\n",
    "  def run(): Unit = {\n",
    "      val data = raw_sentiment.sample(fraction=0.00001,withReplacement=true)\n",
    "      data.coalesce(1).write.format(\"json\").mode(\"append\").save(\"./data/events-stream\")\n",
    "      println(s\"${Calendar.getInstance().toInstant} - saved some data to the events stream!\")\n",
    "  } \n",
    "}\n",
    "\n",
    "println(\"Streaming started!\")\n",
    "\n",
    "timer.schedule(task, 1000L, 1000L)"
   ]
  },
  {
   "cell_type": "code",
   "execution_count": 4,
   "metadata": {},
   "outputs": [
    {
     "data": {
      "text/plain": [
       "res3: Boolean = true\n"
      ]
     },
     "execution_count": 4,
     "metadata": {},
     "output_type": "execute_result"
    },
    {
     "name": "stdout",
     "output_type": "stream",
     "text": [
      "2020-02-24T11:10:13.213Z - saved some data to the events stream!\n"
     ]
    }
   ],
   "source": [
    "task.cancel()"
   ]
  },
  {
   "cell_type": "code",
   "execution_count": null,
   "metadata": {},
   "outputs": [],
   "source": []
  }
 ],
 "metadata": {
  "kernelspec": {
   "display_name": "spylon-kernel",
   "language": "scala",
   "name": "spylon-kernel"
  },
  "language_info": {
   "codemirror_mode": "text/x-scala",
   "file_extension": ".scala",
   "help_links": [
    {
     "text": "MetaKernel Magics",
     "url": "https://metakernel.readthedocs.io/en/latest/source/README.html"
    }
   ],
   "mimetype": "text/x-scala",
   "name": "scala",
   "pygments_lexer": "scala",
   "version": "0.4.1"
  }
 },
 "nbformat": 4,
 "nbformat_minor": 2
}
