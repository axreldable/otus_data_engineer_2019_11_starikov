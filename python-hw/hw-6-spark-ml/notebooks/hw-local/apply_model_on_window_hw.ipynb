{
 "cells": [
  {
   "cell_type": "code",
   "execution_count": 14,
   "metadata": {},
   "outputs": [
    {
     "data": {
      "text/plain": [
       "import org.apache.spark.sql.types.{StructType, StringType}\n",
       "import org.apache.spark.ml.{Pipeline, PipelineModel}\n",
       "import org.apache.spark.sql.functions._\n",
       "import org.apache.spark.sql.DataFrame\n",
       "import org.apache.spark.sql.functions._\n"
      ]
     },
     "execution_count": 14,
     "metadata": {},
     "output_type": "execute_result"
    }
   ],
   "source": [
    "import org.apache.spark.sql.types.{StructType, StringType}\n",
    "import org.apache.spark.ml.{Pipeline, PipelineModel}\n",
    "import org.apache.spark.sql.functions._\n",
    "import org.apache.spark.sql.DataFrame\n",
    "import org.apache.spark.sql.functions._"
   ]
  },
  {
   "cell_type": "code",
   "execution_count": 15,
   "metadata": {},
   "outputs": [
    {
     "data": {
      "text/plain": [
       "inputStreamPath: String = ./data/events-stream\n",
       "dataSchema: org.apache.spark.sql.types.StructType = StructType(StructField(tweet,StringType,true))\n",
       "inputDF: org.apache.spark.sql.DataFrame = [tweet: string]\n"
      ]
     },
     "execution_count": 15,
     "metadata": {},
     "output_type": "execute_result"
    }
   ],
   "source": [
    "val inputStreamPath = \"./data/events-stream\"\n",
    "\n",
    "val dataSchema = new StructType()\n",
    "    .add(\"tweet\", StringType)\n",
    "\n",
    "val inputDF = spark\n",
    "    .readStream\n",
    "    .schema(dataSchema)\n",
    "    .option(\"maxFilesPerTrigger\", 1)\n",
    "    .json(inputStreamPath)"
   ]
  },
  {
   "cell_type": "code",
   "execution_count": 16,
   "metadata": {},
   "outputs": [
    {
     "name": "stdout",
     "output_type": "stream",
     "text": [
      "+------+-----------+-----+\n",
      "|window|is_positive|count|\n",
      "+------+-----------+-----+\n",
      "+------+-----------+-----+\n",
      "\n",
      "+------+-----------+-----+\n",
      "|window|is_positive|count|\n",
      "+------+-----------+-----+\n",
      "+------+-----------+-----+\n",
      "\n"
     ]
    },
    {
     "data": {
      "text/plain": [
       "trainedModel: org.apache.spark.ml.PipelineModel = pipeline_17a6fd2fa90f\n",
       "getProbabilityNegativeTweet: org.apache.spark.sql.expressions.UserDefinedFunction = UserDefinedFunction(<function1>,DoubleType,Some(List(org.apache.spark.ml.linalg.VectorUDT@3bfc3ba7)))\n",
       "getProbabilityPositiveTweet: org.apache.spark.sql.expressions.UserDefinedFunction = UserDefinedFunction(<function1>,DoubleType,Some(List(org.apache.spark.ml.linalg.VectorUDT@3bfc3ba7)))\n"
      ]
     },
     "execution_count": 16,
     "metadata": {},
     "output_type": "execute_result"
    }
   ],
   "source": [
    "val trainedModel = PipelineModel.load(\"./models/spark-ml-model-rf\")\n",
    "val getProbabilityNegativeTweet = udf((prediction: org.apache.spark.ml.linalg.Vector) => prediction(1))\n",
    "val getProbabilityPositiveTweet = udf((prediction: org.apache.spark.ml.linalg.Vector) => prediction(0))"
   ]
  },
  {
   "cell_type": "code",
   "execution_count": 17,
   "metadata": {},
   "outputs": [
    {
     "data": {
      "text/plain": [
       "predictionDf: org.apache.spark.sql.DataFrame = [tweet: string, words: array<string> ... 6 more fields]\n"
      ]
     },
     "execution_count": 17,
     "metadata": {},
     "output_type": "execute_result"
    }
   ],
   "source": [
    "val predictionDf = trainedModel.transform(inputDF)"
   ]
  },
  {
   "cell_type": "code",
   "execution_count": 34,
   "metadata": {},
   "outputs": [
    {
     "data": {
      "text/plain": [
       "markedPositiveDf: org.apache.spark.sql.DataFrame = [tweet: string, words: array<string> ... 9 more fields]\n",
       "timedDf: org.apache.spark.sql.DataFrame = [tweet: string, words: array<string> ... 10 more fields]\n",
       "countIsPositivePer10Sec: org.apache.spark.sql.DataFrame = [is_positive: int, window: struct<start: timestamp, end: timestamp> ... 1 more field]\n"
      ]
     },
     "execution_count": 34,
     "metadata": {},
     "output_type": "execute_result"
    }
   ],
   "source": [
    "val markedPositiveDf = predictionDf\n",
    "        .withColumn(\"probability_negative\", getProbabilityNegativeTweet($\"probability\"))\n",
    "        .withColumn(\"probability_positive\", getProbabilityPositiveTweet($\"probability\"))\n",
    "        .withColumn(\"is_positive\", when($\"probability_positive\" > 0.5, 1).otherwise(0))\n",
    "\n",
    "val timedDf = markedPositiveDf\n",
    "    .withColumn(\"last_minute_timestamp\", (unix_timestamp().minus(1 * 60) + rand() * 100).cast(\"timestamp\"))\n",
    "\n",
    "val countIsPositivePer10Sec = timedDf\n",
    "    .withWatermark(\"last_minute_timestamp\", \"1 seconds\")\n",
    "    .groupBy(\n",
    "        col(\"is_positive\"),\n",
    "        window(col(\"last_minute_timestamp\"), \"10 seconds\", \"10 seconds\")\n",
    "    ).count()"
   ]
  },
  {
   "cell_type": "code",
   "execution_count": 35,
   "metadata": {},
   "outputs": [
    {
     "data": {
      "text/plain": [
       "res14: org.apache.spark.sql.streaming.StreamingQuery = org.apache.spark.sql.execution.streaming.StreamingQueryWrapper@5cccb9d5\n"
      ]
     },
     "execution_count": 35,
     "metadata": {},
     "output_type": "execute_result"
    },
    {
     "name": "stdout",
     "output_type": "stream",
     "text": [
      "+-----------+------+-----+\n",
      "|is_positive|window|count|\n",
      "+-----------+------+-----+\n",
      "+-----------+------+-----+\n",
      "\n",
      "+-----------+------------------------------------------+-----+\n",
      "|is_positive|window                                    |count|\n",
      "+-----------+------------------------------------------+-----+\n",
      "|1          |[2020-02-24 16:58:50, 2020-02-24 16:59:00]|1    |\n",
      "|0          |[2020-02-24 16:57:40, 2020-02-24 16:57:50]|1    |\n",
      "|0          |[2020-02-24 16:58:40, 2020-02-24 16:58:50]|1    |\n",
      "|1          |[2020-02-24 16:58:40, 2020-02-24 16:58:50]|1    |\n",
      "|0          |[2020-02-24 16:58:30, 2020-02-24 16:58:40]|3    |\n",
      "|1          |[2020-02-24 16:58:20, 2020-02-24 16:58:30]|1    |\n",
      "|0          |[2020-02-24 16:58:10, 2020-02-24 16:58:20]|2    |\n",
      "|0          |[2020-02-24 16:59:00, 2020-02-24 16:59:10]|1    |\n",
      "|0          |[2020-02-24 16:57:50, 2020-02-24 16:58:00]|1    |\n",
      "|1          |[2020-02-24 16:58:00, 2020-02-24 16:58:10]|2    |\n",
      "+-----------+------------------------------------------+-----+\n",
      "\n",
      "+-----------+------+-----+\n",
      "|is_positive|window|count|\n",
      "+-----------+------+-----+\n",
      "+-----------+------+-----+\n",
      "\n",
      "+-----------+------------------------------------------+-----+\n",
      "|is_positive|window                                    |count|\n",
      "+-----------+------------------------------------------+-----+\n",
      "|1          |[2020-02-24 16:59:10, 2020-02-24 16:59:20]|3    |\n",
      "|0          |[2020-02-24 16:59:10, 2020-02-24 16:59:20]|2    |\n",
      "+-----------+------------------------------------------+-----+\n",
      "\n",
      "+-----------+------+-----+\n",
      "|is_positive|window|count|\n",
      "+-----------+------+-----+\n",
      "+-----------+------+-----+\n",
      "\n",
      "+-----------+------------------------------------------+-----+\n",
      "|is_positive|window                                    |count|\n",
      "+-----------+------------------------------------------+-----+\n",
      "|0          |[2020-02-24 16:59:20, 2020-02-24 16:59:30]|1    |\n",
      "|1          |[2020-02-24 16:59:20, 2020-02-24 16:59:30]|4    |\n",
      "+-----------+------------------------------------------+-----+\n",
      "\n",
      "+-----------+------+-----+\n",
      "|is_positive|window|count|\n",
      "+-----------+------+-----+\n",
      "+-----------+------+-----+\n",
      "\n",
      "+-----------+------+-----+\n",
      "|is_positive|window|count|\n",
      "+-----------+------+-----+\n",
      "+-----------+------+-----+\n",
      "\n",
      "+-----------+------+-----+\n",
      "|is_positive|window|count|\n",
      "+-----------+------+-----+\n",
      "+-----------+------+-----+\n",
      "\n",
      "+-----------+------------------------------------------+-----+\n",
      "|is_positive|window                                    |count|\n",
      "+-----------+------------------------------------------+-----+\n",
      "|0          |[2020-02-24 16:59:30, 2020-02-24 16:59:40]|2    |\n",
      "|1          |[2020-02-24 16:59:30, 2020-02-24 16:59:40]|1    |\n",
      "+-----------+------------------------------------------+-----+\n",
      "\n",
      "+-----------+------+-----+\n",
      "|is_positive|window|count|\n",
      "+-----------+------+-----+\n",
      "+-----------+------+-----+\n",
      "\n",
      "+-----------+------+-----+\n",
      "|is_positive|window|count|\n",
      "+-----------+------+-----+\n",
      "+-----------+------+-----+\n",
      "\n",
      "+-----------+------------------------------------------+-----+\n",
      "|is_positive|window                                    |count|\n",
      "+-----------+------------------------------------------+-----+\n",
      "|1          |[2020-02-24 16:59:40, 2020-02-24 16:59:50]|1    |\n",
      "|0          |[2020-02-24 16:59:40, 2020-02-24 16:59:50]|3    |\n",
      "+-----------+------------------------------------------+-----+\n",
      "\n",
      "+-----------+------+-----+\n",
      "|is_positive|window|count|\n",
      "+-----------+------+-----+\n",
      "+-----------+------+-----+\n",
      "\n",
      "+-----------+------+-----+\n",
      "|is_positive|window|count|\n",
      "+-----------+------+-----+\n",
      "+-----------+------+-----+\n",
      "\n",
      "+-----------+------------------------------------------+-----+\n",
      "|is_positive|window                                    |count|\n",
      "+-----------+------------------------------------------+-----+\n",
      "|1          |[2020-02-24 16:59:50, 2020-02-24 17:00:00]|2    |\n",
      "|0          |[2020-02-24 16:59:50, 2020-02-24 17:00:00]|4    |\n",
      "+-----------+------------------------------------------+-----+\n",
      "\n",
      "+-----------+------+-----+\n",
      "|is_positive|window|count|\n",
      "+-----------+------+-----+\n",
      "+-----------+------+-----+\n",
      "\n",
      "+-----------+------------------------------------------+-----+\n",
      "|is_positive|window                                    |count|\n",
      "+-----------+------------------------------------------+-----+\n",
      "|1          |[2020-02-24 17:00:00, 2020-02-24 17:00:10]|1    |\n",
      "|0          |[2020-02-24 17:00:00, 2020-02-24 17:00:10]|2    |\n",
      "+-----------+------------------------------------------+-----+\n",
      "\n"
     ]
    }
   ],
   "source": [
    "countIsPositivePer10Sec.writeStream.foreachBatch{ (batchDF: DataFrame, batchId: Long) =>\n",
    "    batchDF.show(false)\n",
    "}.start()"
   ]
  },
  {
   "cell_type": "code",
   "execution_count": null,
   "metadata": {},
   "outputs": [],
   "source": []
  }
 ],
 "metadata": {
  "kernelspec": {
   "display_name": "spylon-kernel",
   "language": "scala",
   "name": "spylon-kernel"
  },
  "language_info": {
   "codemirror_mode": "text/x-scala",
   "file_extension": ".scala",
   "help_links": [
    {
     "text": "MetaKernel Magics",
     "url": "https://metakernel.readthedocs.io/en/latest/source/README.html"
    }
   ],
   "mimetype": "text/x-scala",
   "name": "scala",
   "pygments_lexer": "scala",
   "version": "0.4.1"
  },
  "pycharm": {
   "stem_cell": {
    "cell_type": "raw",
    "metadata": {
     "collapsed": false
    },
    "source": []
   }
  }
 },
 "nbformat": 4,
 "nbformat_minor": 4
}
