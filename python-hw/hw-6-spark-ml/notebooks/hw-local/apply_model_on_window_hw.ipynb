{
 "cells": [
  {
   "cell_type": "code",
   "execution_count": 1,
   "metadata": {},
   "outputs": [
    {
     "data": {
      "text/plain": [
       "Intitializing Scala interpreter ..."
      ]
     },
     "metadata": {},
     "output_type": "display_data"
    },
    {
     "data": {
      "text/plain": [
       "Spark Web UI available at http://10.50.15.159:4040\n",
       "SparkContext available as 'sc' (version = 2.4.0, master = local[*], app id = local-1582553000651)\n",
       "SparkSession available as 'spark'\n"
      ]
     },
     "metadata": {},
     "output_type": "display_data"
    },
    {
     "data": {
      "text/plain": [
       "import org.apache.spark.sql.types.{StructType, StringType}\n",
       "import org.apache.spark.ml.{Pipeline, PipelineModel}\n",
       "import org.apache.spark.sql.functions._\n",
       "import org.apache.spark.sql.DataFrame\n",
       "import org.apache.spark.sql.functions._\n"
      ]
     },
     "execution_count": 1,
     "metadata": {},
     "output_type": "execute_result"
    }
   ],
   "source": [
    "import org.apache.spark.sql.types.{StructType, StringType}\n",
    "import org.apache.spark.ml.{Pipeline, PipelineModel}\n",
    "import org.apache.spark.sql.functions._\n",
    "import org.apache.spark.sql.DataFrame\n",
    "import org.apache.spark.sql.functions._"
   ]
  },
  {
   "cell_type": "code",
   "execution_count": 2,
   "metadata": {},
   "outputs": [
    {
     "data": {
      "text/plain": [
       "inputStreamPath: String = ./data/events-stream\n",
       "dataSchema: org.apache.spark.sql.types.StructType = StructType(StructField(tweet,StringType,true))\n",
       "inputDF: org.apache.spark.sql.DataFrame = [tweet: string]\n"
      ]
     },
     "execution_count": 2,
     "metadata": {},
     "output_type": "execute_result"
    }
   ],
   "source": [
    "val inputStreamPath = \"./data/events-stream\"\n",
    "\n",
    "val dataSchema = new StructType()\n",
    "    .add(\"tweet\", StringType)\n",
    "\n",
    "val inputDF = spark\n",
    "    .readStream\n",
    "    .schema(dataSchema)\n",
    "    .option(\"maxFilesPerTrigger\", 1)\n",
    "    .json(inputStreamPath)"
   ]
  },
  {
   "cell_type": "code",
   "execution_count": 3,
   "metadata": {},
   "outputs": [
    {
     "data": {
      "text/plain": [
       "trainedModel: org.apache.spark.ml.PipelineModel = pipeline_17a6fd2fa90f\n",
       "getProbabilityNegativeTweet: org.apache.spark.sql.expressions.UserDefinedFunction = UserDefinedFunction(<function1>,DoubleType,Some(List(org.apache.spark.ml.linalg.VectorUDT@3bfc3ba7)))\n",
       "getProbabilityPositiveTweet: org.apache.spark.sql.expressions.UserDefinedFunction = UserDefinedFunction(<function1>,DoubleType,Some(List(org.apache.spark.ml.linalg.VectorUDT@3bfc3ba7)))\n"
      ]
     },
     "execution_count": 3,
     "metadata": {},
     "output_type": "execute_result"
    }
   ],
   "source": [
    "val trainedModel = PipelineModel.load(\"./models/spark-ml-model-rf\")\n",
    "val getProbabilityNegativeTweet = udf((prediction: org.apache.spark.ml.linalg.Vector) => prediction(1))\n",
    "val getProbabilityPositiveTweet = udf((prediction: org.apache.spark.ml.linalg.Vector) => prediction(0))"
   ]
  },
  {
   "cell_type": "code",
   "execution_count": 4,
   "metadata": {},
   "outputs": [
    {
     "data": {
      "text/plain": [
       "predictionDf: org.apache.spark.sql.DataFrame = [tweet: string, words: array<string> ... 6 more fields]\n"
      ]
     },
     "execution_count": 4,
     "metadata": {},
     "output_type": "execute_result"
    }
   ],
   "source": [
    "val predictionDf = trainedModel.transform(inputDF)"
   ]
  },
  {
   "cell_type": "code",
   "execution_count": 5,
   "metadata": {},
   "outputs": [
    {
     "data": {
      "text/plain": [
       "markedPositiveDf: org.apache.spark.sql.DataFrame = [tweet: string, words: array<string> ... 9 more fields]\n",
       "timedDf: org.apache.spark.sql.DataFrame = [tweet: string, words: array<string> ... 10 more fields]\n",
       "countIsPositivePer10Sec: org.apache.spark.sql.DataFrame = [is_positive: int, window: struct<start: timestamp, end: timestamp> ... 1 more field]\n"
      ]
     },
     "execution_count": 5,
     "metadata": {},
     "output_type": "execute_result"
    }
   ],
   "source": [
    "val markedPositiveDf = predictionDf\n",
    "        .withColumn(\"probability_negative\", getProbabilityNegativeTweet($\"probability\"))\n",
    "        .withColumn(\"probability_positive\", getProbabilityPositiveTweet($\"probability\"))\n",
    "        .withColumn(\"is_positive\", when($\"probability_positive\" > 0.5, 1).otherwise(0))\n",
    "\n",
    "val timedDf = markedPositiveDf\n",
    "    .withColumn(\"last_minute_timestamp\", (unix_timestamp().minus(1 * 60) + rand() * 100).cast(\"timestamp\"))\n",
    "\n",
    "val countIsPositivePer10Sec = timedDf\n",
    "    .withWatermark(\"last_minute_timestamp\", \"1 seconds\")\n",
    "    .groupBy(\n",
    "        col(\"is_positive\"),\n",
    "        window(col(\"last_minute_timestamp\"), \"10 seconds\", \"10 seconds\")\n",
    "    ).count()"
   ]
  },
  {
   "cell_type": "code",
   "execution_count": 6,
   "metadata": {},
   "outputs": [
    {
     "data": {
      "text/plain": [
       "res0: org.apache.spark.sql.streaming.StreamingQuery = org.apache.spark.sql.execution.streaming.StreamingQueryWrapper@17c904ef\n"
      ]
     },
     "execution_count": 6,
     "metadata": {},
     "output_type": "execute_result"
    },
    {
     "name": "stdout",
     "output_type": "stream",
     "text": [
      "+-----------+------+-----+\n",
      "|is_positive|window|count|\n",
      "+-----------+------+-----+\n",
      "+-----------+------+-----+\n",
      "\n",
      "+-----------+------------------------------------------+-----+\n",
      "|is_positive|window                                    |count|\n",
      "+-----------+------------------------------------------+-----+\n",
      "|1          |[2020-02-24 17:02:50, 2020-02-24 17:03:00]|1    |\n",
      "|0          |[2020-02-24 17:04:00, 2020-02-24 17:04:10]|1    |\n",
      "|0          |[2020-02-24 17:03:50, 2020-02-24 17:04:00]|2    |\n",
      "|0          |[2020-02-24 17:03:20, 2020-02-24 17:03:30]|1    |\n",
      "|1          |[2020-02-24 17:02:30, 2020-02-24 17:02:40]|1    |\n",
      "|1          |[2020-02-24 17:03:40, 2020-02-24 17:03:50]|1    |\n",
      "|1          |[2020-02-24 17:02:40, 2020-02-24 17:02:50]|1    |\n",
      "|1          |[2020-02-24 17:03:10, 2020-02-24 17:03:20]|1    |\n",
      "|0          |[2020-02-24 17:02:50, 2020-02-24 17:03:00]|2    |\n",
      "|0          |[2020-02-24 17:03:10, 2020-02-24 17:03:20]|1    |\n",
      "|0          |[2020-02-24 17:03:00, 2020-02-24 17:03:10]|1    |\n",
      "+-----------+------------------------------------------+-----+\n",
      "\n",
      "+-----------+------+-----+\n",
      "|is_positive|window|count|\n",
      "+-----------+------+-----+\n",
      "+-----------+------+-----+\n",
      "\n",
      "+-----------+------------------------------------------+-----+\n",
      "|is_positive|window                                    |count|\n",
      "+-----------+------------------------------------------+-----+\n",
      "|0          |[2020-02-24 17:04:10, 2020-02-24 17:04:20]|5    |\n",
      "|1          |[2020-02-24 17:04:10, 2020-02-24 17:04:20]|1    |\n",
      "+-----------+------------------------------------------+-----+\n",
      "\n",
      "+-----------+------+-----+\n",
      "|is_positive|window|count|\n",
      "+-----------+------+-----+\n",
      "+-----------+------+-----+\n",
      "\n",
      "+-----------+------+-----+\n",
      "|is_positive|window|count|\n",
      "+-----------+------+-----+\n",
      "+-----------+------+-----+\n",
      "\n",
      "+-----------+------+-----+\n",
      "|is_positive|window|count|\n",
      "+-----------+------+-----+\n",
      "+-----------+------+-----+\n",
      "\n",
      "+-----------+------+-----+\n",
      "|is_positive|window|count|\n",
      "+-----------+------+-----+\n",
      "+-----------+------+-----+\n",
      "\n",
      "+-----------+------------------------------------------+-----+\n",
      "|is_positive|window                                    |count|\n",
      "+-----------+------------------------------------------+-----+\n",
      "|1          |[2020-02-24 17:04:20, 2020-02-24 17:04:30]|5    |\n",
      "|0          |[2020-02-24 17:04:20, 2020-02-24 17:04:30]|8    |\n",
      "+-----------+------------------------------------------+-----+\n",
      "\n",
      "+-----------+------+-----+\n",
      "|is_positive|window|count|\n",
      "+-----------+------+-----+\n",
      "+-----------+------+-----+\n",
      "\n",
      "+-----------+------------------------------------------+-----+\n",
      "|is_positive|window                                    |count|\n",
      "+-----------+------------------------------------------+-----+\n",
      "|1          |[2020-02-24 17:04:30, 2020-02-24 17:04:40]|2    |\n",
      "|0          |[2020-02-24 17:04:30, 2020-02-24 17:04:40]|2    |\n",
      "+-----------+------------------------------------------+-----+\n",
      "\n",
      "+-----------+------+-----+\n",
      "|is_positive|window|count|\n",
      "+-----------+------+-----+\n",
      "+-----------+------+-----+\n",
      "\n",
      "+-----------+------+-----+\n",
      "|is_positive|window|count|\n",
      "+-----------+------+-----+\n",
      "+-----------+------+-----+\n",
      "\n",
      "+-----------+------+-----+\n",
      "|is_positive|window|count|\n",
      "+-----------+------+-----+\n",
      "+-----------+------+-----+\n",
      "\n",
      "+-----------+------+-----+\n",
      "|is_positive|window|count|\n",
      "+-----------+------+-----+\n",
      "+-----------+------+-----+\n",
      "\n",
      "+-----------+------------------------------------------+-----+\n",
      "|is_positive|window                                    |count|\n",
      "+-----------+------------------------------------------+-----+\n",
      "|0          |[2020-02-24 17:04:40, 2020-02-24 17:04:50]|4    |\n",
      "|1          |[2020-02-24 17:04:40, 2020-02-24 17:04:50]|2    |\n",
      "+-----------+------------------------------------------+-----+\n",
      "\n",
      "+-----------+------+-----+\n",
      "|is_positive|window|count|\n",
      "+-----------+------+-----+\n",
      "+-----------+------+-----+\n",
      "\n",
      "+-----------+------------------------------------------+-----+\n",
      "|is_positive|window                                    |count|\n",
      "+-----------+------------------------------------------+-----+\n",
      "|0          |[2020-02-24 17:04:50, 2020-02-24 17:05:00]|7    |\n",
      "+-----------+------------------------------------------+-----+\n",
      "\n",
      "+-----------+------+-----+\n",
      "|is_positive|window|count|\n",
      "+-----------+------+-----+\n",
      "+-----------+------+-----+\n",
      "\n",
      "+-----------+------+-----+\n",
      "|is_positive|window|count|\n",
      "+-----------+------+-----+\n",
      "+-----------+------+-----+\n",
      "\n",
      "+-----------+------+-----+\n",
      "|is_positive|window|count|\n",
      "+-----------+------+-----+\n",
      "+-----------+------+-----+\n",
      "\n",
      "+-----------+------+-----+\n",
      "|is_positive|window|count|\n",
      "+-----------+------+-----+\n",
      "+-----------+------+-----+\n",
      "\n",
      "+-----------+------------------------------------------+-----+\n",
      "|is_positive|window                                    |count|\n",
      "+-----------+------------------------------------------+-----+\n",
      "|0          |[2020-02-24 17:05:00, 2020-02-24 17:05:10]|3    |\n",
      "|1          |[2020-02-24 17:05:00, 2020-02-24 17:05:10]|2    |\n",
      "+-----------+------------------------------------------+-----+\n",
      "\n",
      "+-----------+------+-----+\n",
      "|is_positive|window|count|\n",
      "+-----------+------+-----+\n",
      "+-----------+------+-----+\n",
      "\n",
      "+-----------+------+-----+\n",
      "|is_positive|window|count|\n",
      "+-----------+------+-----+\n",
      "+-----------+------+-----+\n",
      "\n",
      "+-----------+------+-----+\n",
      "|is_positive|window|count|\n",
      "+-----------+------+-----+\n",
      "+-----------+------+-----+\n",
      "\n",
      "+-----------+------------------------------------------+-----+\n",
      "|is_positive|window                                    |count|\n",
      "+-----------+------------------------------------------+-----+\n",
      "|1          |[2020-02-24 17:05:10, 2020-02-24 17:05:20]|1    |\n",
      "|0          |[2020-02-24 17:05:10, 2020-02-24 17:05:20]|4    |\n",
      "+-----------+------------------------------------------+-----+\n",
      "\n"
     ]
    }
   ],
   "source": [
    "countIsPositivePer10Sec.writeStream.foreachBatch{ (batchDF: DataFrame, batchId: Long) =>\n",
    "    batchDF.show(false)\n",
    "}.start()"
   ]
  },
  {
   "cell_type": "code",
   "execution_count": null,
   "metadata": {},
   "outputs": [],
   "source": []
  }
 ],
 "metadata": {
  "kernelspec": {
   "display_name": "spylon-kernel",
   "language": "scala",
   "name": "spylon-kernel"
  },
  "language_info": {
   "codemirror_mode": "text/x-scala",
   "file_extension": ".scala",
   "help_links": [
    {
     "text": "MetaKernel Magics",
     "url": "https://metakernel.readthedocs.io/en/latest/source/README.html"
    }
   ],
   "mimetype": "text/x-scala",
   "name": "scala",
   "pygments_lexer": "scala",
   "version": "0.4.1"
  },
  "pycharm": {
   "stem_cell": {
    "cell_type": "raw",
    "metadata": {
     "collapsed": false
    },
    "source": []
   }
  }
 },
 "nbformat": 4,
 "nbformat_minor": 4
}
